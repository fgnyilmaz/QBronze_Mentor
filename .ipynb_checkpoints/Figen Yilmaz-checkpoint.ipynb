{
 "cells": [
  {
   "cell_type": "markdown",
   "metadata": {},
   "source": [
    "<div class=\"alert alert-block alert-info\" style=\"margin-top: 20px\">\n",
    "\n",
    "<h1> Questions and Answers </h1>\n",
    "    <h3> By: Figen YILMAZ </h3>\n",
    "</div>\n",
    "<br>\n",
    "<hr>"
   ]
  },
  {
   "cell_type": "markdown",
   "metadata": {},
   "source": [
    "<table width=\"100%\"><tr><td style=\"color:#bbbbbb;background-color:#ffffff;font-size:11px;font-style:italic;text-align:right;\">This cell contains some macros. If there is a problem with displaying mathematical formulas, please run this cell to load these macros. </td></tr></table>\n",
    "$ \\newcommand{\\bra}[1]{\\langle #1|} $\n",
    "$ \\newcommand{\\ket}[1]{|#1\\rangle} $\n",
    "$ \\newcommand{\\braket}[2]{\\langle #1|#2\\rangle} $\n",
    "$ \\newcommand{\\dot}[2]{ #1 \\cdot #2} $\n",
    "$ \\newcommand{\\biginner}[2]{\\left\\langle #1,#2\\right\\rangle} $\n",
    "$ \\newcommand{\\mymatrix}[2]{\\left( \\begin{array}{#1} #2\\end{array} \\right)} $\n",
    "$ \\newcommand{\\myvector}[1]{\\mymatrix{c}{#1}} $\n",
    "$ \\newcommand{\\myrvector}[1]{\\mymatrix{r}{#1}} $\n",
    "$ \\newcommand{\\mypar}[1]{\\left( #1 \\right)} $\n",
    "$ \\newcommand{\\mybigpar}[1]{ \\Big( #1 \\Big)} $\n",
    "$ \\newcommand{\\sqrttwo}{\\frac{1}{\\sqrt{2}}} $\n",
    "$ \\newcommand{\\dsqrttwo}{\\dfrac{1}{\\sqrt{2}}} $\n",
    "$ \\newcommand{\\onehalf}{\\frac{1}{2}} $\n",
    "$ \\newcommand{\\donehalf}{\\dfrac{1}{2}} $\n",
    "$ \\newcommand{\\hadamard}{ \\mymatrix{rr}{ \\sqrttwo & \\sqrttwo \\\\ \\sqrttwo & -\\sqrttwo }} $\n",
    "$ \\newcommand{\\vzero}{\\myvector{1\\\\0}} $\n",
    "$ \\newcommand{\\vone}{\\myvector{0\\\\1}} $\n",
    "$ \\newcommand{\\stateplus}{\\myvector{ \\sqrttwo \\\\  \\sqrttwo } } $\n",
    "$ \\newcommand{\\stateminus}{ \\myrvector{ \\sqrttwo \\\\ -\\sqrttwo } } $\n",
    "$ \\newcommand{\\myarray}[2]{ \\begin{array}{#1}#2\\end{array}} $\n",
    "$ \\newcommand{\\X}{ \\mymatrix{cc}{0 & 1 \\\\ 1 & 0}  } $\n",
    "$ \\newcommand{\\I}{ \\mymatrix{rr}{1 & 0 \\\\ 0 & 1}  } $\n",
    "$ \\newcommand{\\Z}{ \\mymatrix{rr}{1 & 0 \\\\ 0 & -1}  } $\n",
    "$ \\newcommand{\\Htwo}{ \\mymatrix{rrrr}{ \\frac{1}{2} & \\frac{1}{2} & \\frac{1}{2} & \\frac{1}{2} \\\\ \\frac{1}{2} & -\\frac{1}{2} & \\frac{1}{2} & -\\frac{1}{2} \\\\ \\frac{1}{2} & \\frac{1}{2} & -\\frac{1}{2} & -\\frac{1}{2} \\\\ \\frac{1}{2} & -\\frac{1}{2} & -\\frac{1}{2} & \\frac{1}{2} } } $\n",
    "$ \\newcommand{\\CNOT}{ \\mymatrix{cccc}{1 & 0 & 0 & 0 \\\\ 0 & 1 & 0 & 0 \\\\ 0 & 0 & 0 & 1 \\\\ 0 & 0 & 1 & 0} } $\n",
    "$ \\newcommand{\\norm}[1]{ \\left\\lVert #1 \\right\\rVert } $\n",
    "$ \\newcommand{\\pstate}[1]{ \\lceil \\mspace{-1mu} #1 \\mspace{-1.5mu} \\rfloor } $"
   ]
  },
  {
   "cell_type": "markdown",
   "metadata": {},
   "source": [
    "## Table of contents <a name=\"TableOfContents\"></a>\n",
    "1. [Question 1](#q1)\n",
    "1. [Question 2](#q2)\n",
    "1. [Question 3](#q3)\n",
    "1. [Question 4](#q4)\n",
    "1. [Question 5](#q5)\n",
    "1. [Question 6](#q6)\n",
    "1. [Question 7](#q7)\n",
    "1. [Question 8](#q8)\n",
    "1. [Question 9](#q9)\n",
    "1. [Question 10](#q10)\n",
    "1. [Question 11](#q11)\n",
    "1. [Question 12](#q12)\n",
    "1. [Question 13](#q13)"
   ]
  },
  {
   "cell_type": "markdown",
   "metadata": {},
   "source": [
    "\n",
    "<h3>Questions and Answers </h3>\n",
    "\n",
    "## Question 1 | Basics of a Classical Systems | One Bit<a name=\"q1\"></a>\n",
    "\n",
    "\n",
    "Are there any other operators (apart from the four mentioned) that one could apply to the single bit?\n",
    "\n",
    "### Answer\n",
    "These are from the notebook.\n",
    "<ol>\n",
    "    <li> Identity: $ I(0) = 0 $ and $ I(1) = 1 $ </li>\n",
    "    <li> Negation: $ NOT(0) = 1 $ and $ NOT(1) = 0 $ </li>\n",
    "    <li> Constant (Zero): $ ZERO(0) = 0 $ and $ ZERO(1) = 0 $ </li>\n",
    "    <li> Constant (One): $ ONE(0) = 1 $ and $ ONE(1) = 1 $ </li>\n",
    "</ol>\n",
    "\n",
    "No, there are not more than them. AND, OR, XOR etc gates for two bits or more. \n"
   ]
  },
  {
   "cell_type": "markdown",
   "metadata": {},
   "source": [
    "## Question 2 | Basics of Classical Systems | Probabilistic States <a name=\"q2\"></a>"
   ]
  },
  {
   "cell_type": "markdown",
   "metadata": {},
   "source": [
    "What is a linear system?"
   ]
  },
  {
   "cell_type": "markdown",
   "metadata": {},
   "source": [
    "### Answer"
   ]
  },
  {
   "cell_type": "markdown",
   "metadata": {},
   "source": [
    "In systems theory, a linear system is a mathematical model of a system based on the use of a linear operator. Linear systems typically exhibit features and properties that are much simpler than the nonlinear case. As a mathematical abstraction or idealization, linear systems find important applications in automatic control theory, signal processing, and telecommunications. For example, the propagation medium for wireless communication systems can often be modeled by linear systems. [1] "
   ]
  },
  {
   "cell_type": "markdown",
   "metadata": {},
   "source": [
    "<hr>"
   ]
  },
  {
   "cell_type": "markdown",
   "metadata": {},
   "source": [
    "## Question 3 | Basic of Quantum Systems | Quantum Coin Flipping <a name=\"q3\"></a>"
   ]
  },
  {
   "cell_type": "markdown",
   "metadata": {},
   "source": [
    "In this experiment, the state of the system is encoded in the path and the beam-splitter separates the different paths (corresponding to 0 and 1). If we model the quantum coin flipping experiment using polarization, what kind of beam-splitter should we use?"
   ]
  },
  {
   "cell_type": "markdown",
   "metadata": {},
   "source": [
    "### Answer"
   ]
  },
  {
   "cell_type": "markdown",
   "metadata": {},
   "source": [
    "Same beam-spliter. Beam spliter is a type of mirror and it is a half silvered-mirror. And there is also another mirror. Mirror reflect all lights. Half silvered mirror as you can underestand from its name, it reflect 50% and transmit 50%."
   ]
  },
  {
   "cell_type": "markdown",
   "metadata": {},
   "source": [
    "<hr>"
   ]
  },
  {
   "cell_type": "markdown",
   "metadata": {},
   "source": [
    "## Question 4 | Grover's Search | Grover's Search Implementation <a name=\"q4\"></a>"
   ]
  },
  {
   "cell_type": "markdown",
   "metadata": {},
   "source": [
    "Why is it necessary to put an extra qubit to implement not gate controlled by three qubits?"
   ]
  },
  {
   "cell_type": "markdown",
   "metadata": {},
   "source": [
    "### Answer"
   ]
  },
  {
   "cell_type": "markdown",
   "metadata": {},
   "source": [
    "We need to have one ancilla qubit to check all other qubits. With ancilla qubit the oracle will check the marked element. But I do not know the task you are asking. "
   ]
  },
  {
   "cell_type": "markdown",
   "metadata": {},
   "source": [
    "<hr>"
   ]
  },
  {
   "cell_type": "markdown",
   "metadata": {},
   "source": [
    "## Question 5 | Quantum Correlation | Phase Kickback <a name=\"q5\"></a>"
   ]
  },
  {
   "cell_type": "markdown",
   "metadata": {},
   "source": [
    "What is a phase in this context?"
   ]
  },
  {
   "cell_type": "markdown",
   "metadata": {},
   "source": [
    "### Answer"
   ]
  },
  {
   "cell_type": "markdown",
   "metadata": {},
   "source": [
    "The phase is the state’s phase. For example: If we are looking to the example1 which one’s result is |11> That’s mean the phase of this state is 0 degree for both."
   ]
  },
  {
   "cell_type": "markdown",
   "metadata": {},
   "source": [
    "<hr>"
   ]
  },
  {
   "cell_type": "markdown",
   "metadata": {},
   "source": [
    "## Question 6 | Quantum Operators on a Real Valued Qubit | Quantum Tomography <a name=\"q6\"></a>"
   ]
  },
  {
   "cell_type": "markdown",
   "metadata": {},
   "source": [
    "Could we really have 1000 copies of a qubit? What happens with the no cloning theorem?"
   ]
  },
  {
   "cell_type": "markdown",
   "metadata": {},
   "source": [
    "### Answer"
   ]
  },
  {
   "cell_type": "markdown",
   "metadata": {},
   "source": [
    "The no-cloning theorem, which shows that you cannot make copies of an unknown quantum state.\n",
    "the remarkable power\n",
    "of a quantum computer comes from the fact a qubit can exist in a superposition $ \\ket{\\psi} = \\alpha \\ket{0} + \\beta \\ket{1} $.\n",
    "I will not prove it now with math, if you want I can add. But I do not know the answer of this question from Tomography part. "
   ]
  },
  {
   "cell_type": "markdown",
   "metadata": {},
   "source": [
    "<hr>"
   ]
  },
  {
   "cell_type": "markdown",
   "metadata": {},
   "source": [
    "## Question 7 | Basic of Classical Systems Systems | Coin Flipping <a name=\"q7\"></a>"
   ]
  },
  {
   "cell_type": "markdown",
   "metadata": {},
   "source": [
    "In Task 2, can I replace this:\n",
    "if randrange(100) <60: heads = heads + 1 # with probability 0.6\n",
    "else: tails = tails + 1 # with probability 0.4\n",
    "with\n",
    "if randrange(100) <40: tails = tails + 1 \n",
    "else: heads = heads + 1?"
   ]
  },
  {
   "cell_type": "markdown",
   "metadata": {},
   "source": [
    "### Answer"
   ]
  },
  {
   "cell_type": "markdown",
   "metadata": {},
   "source": [
    "Yes, of course you can change the lines. Nothing gonna change unless if you use same logic. If you want you can code in here and see the results, will be same."
   ]
  },
  {
   "cell_type": "code",
   "execution_count": 1,
   "metadata": {},
   "outputs": [
    {
     "name": "stdout",
     "output_type": "stream",
     "text": [
      "100\n",
      "the ratio of #heads/#tails is 4.0 heads = 1.6 tails =  0.4\n",
      "1.6 0.4\n",
      "1000\n",
      "the ratio of #heads/#tails is 6.5 heads = 2.6 tails =  0.4\n",
      "2.6 0.4\n",
      "10000\n",
      "the ratio of #heads/#tails is 1.8571428571428574 heads = 2.6 tails =  1.4\n",
      "2.6 1.4\n",
      "100000\n",
      "the ratio of #heads/#tails is 2.5714285714285716 heads = 3.6 tails =  1.4\n",
      "3.6 1.4\n"
     ]
    }
   ],
   "source": [
    "from random import randrange\n",
    "heads = 0.6\n",
    "tails = 0.4\n",
    "for exp in [100, 1000, 10000, 100000]: \n",
    "    if randrange(100) <40: tails = tails + 1\n",
    "    else: heads = heads + 1\n",
    "    print(exp)\n",
    "    print(\"the ratio of #heads/#tails is\",(heads/tails),\"heads =\",heads,\"tails = \",tails)\n",
    "    print(heads, tails)"
   ]
  },
  {
   "cell_type": "markdown",
   "metadata": {},
   "source": [
    "<hr>"
   ]
  },
  {
   "cell_type": "markdown",
   "metadata": {},
   "source": [
    "## Question 8 | Basic of Classical Systems | Operators on Multiple Bits <a name=\"q8\"></a>"
   ]
  },
  {
   "cell_type": "markdown",
   "metadata": {},
   "source": [
    "Imagine C0M matrix is applied to three qubit system. If it is applied to the first two qubits, find the matrix that should be applied to the system."
   ]
  },
  {
   "cell_type": "markdown",
   "metadata": {},
   "source": [
    "### Answer"
   ]
  },
  {
   "cell_type": "markdown",
   "metadata": {},
   "source": [
    "From the NB19:\n",
    "For a given single bit operator $ M $, **the $C_0M$ operator** by using the operator $ CM $.\n",
    "\n",
    "$$ C_0M = \\mymatrix{c|c}{ M & \\mathbf{0} \\\\ \\hline \\mathbf{0} & I } $$\n",
    "\n",
    "\n",
    "This can be like CNOT gate on 3 qubit systems. If we like to operate only first two qubit then we can operate:\n",
    "\n",
    "$$ C_0M = (X \\otimes I) \\cdot (CM) \\cdot ( X \\otimes I ). $$\n",
    "\n",
    "\n",
    "It is not clear on which bits operator will be apply. Let's say we have these. We can seperate as follow:\n",
    "\n",
    "$ \\frac{1}{2} \\pstate{000} + \\frac{1}{2} \\pstate{110} = \\mypar{ \\frac{1}{2} \\pstate{00} + \\frac{1}{2} \\pstate{11}  } \\otimes \\pstate{0} $.\n",
    "\n",
    "And we can apply on first two qubits as follow. We can see in Task 6:\n",
    "\n",
    "we define $ M $ as $ \\mymatrix{cc}{a & b \\\\ c & d} $, and then verify the result by doing all multiplications explicitly.\n",
    "\n",
    "$$ C_0M = (X \\otimes I) \\cdot (CM) \\cdot ( X \\otimes I ) = \\mymatrix{cc|cc}{ 0 & 0 & 1 & 0 \\\\ 0 & 0 & 0 & 1 \\\\ \\hline 1 & 0 & 0 & 0 \\\\ 0 & 1 & 0 & 0 } \\cdot \\mymatrix{cc|cc}{1 & 0 & 0 & 0 \\\\ 0 & 1 & 0 & 0 \\\\ \\hline 0 & 0 & a & b \\\\ 0 & 0 & c & d} \\cdot \\mymatrix{cc|cc}{ 0 & 0 & 1 & 0 \\\\ 0 & 0 & 0 & 1 \\\\ \\hline 1 & 0 & 0 & 0 \\\\ 0 & 1 & 0 & 0 } =\n",
    "$$\n",
    "\n",
    "$$\n",
    "    \\mymatrix{cc|cc}{ 0 & 0 & a & b \\\\ 0 & 0 & c & d \\\\ \\hline 1 & 0 & 0 & 0 \\\\ 0 & 1 & 0 & 0 } \\mymatrix{cc|cc}{ 0 & 0 & 1 & 0 \\\\ 0 & 0 & 0 & 1 \\\\ \\hline 1 & 0 & 0 & 0 \\\\ 0 & 1 & 0 & 0 } =\n",
    "    \\mymatrix{cc|cc}{ a & b & 0 & 0 \\\\ c & d & 0 & 0 \\\\ \\hline 0 & 0 & 1 & 0 \\\\ 0 & 0 & 0 & 1 } =\n",
    "    \\mymatrix{c|c}{ M & \\mathbf{0} \\\\ \\hline \\mathbf{0} & I }. \n",
    "$$\n"
   ]
  },
  {
   "cell_type": "markdown",
   "metadata": {},
   "source": [
    "<hr>"
   ]
  },
  {
   "cell_type": "markdown",
   "metadata": {},
   "source": [
    "## Question 9 | Basic of Quantum Systems | Hadamard Operator <a name=\"q9\"></a>"
   ]
  },
  {
   "cell_type": "markdown",
   "metadata": {},
   "source": [
    "What is the geometrical interpretation of Hadamard operator in Bloch sphere?"
   ]
  },
  {
   "cell_type": "markdown",
   "metadata": {},
   "source": [
    "### Answer"
   ]
  },
  {
   "cell_type": "markdown",
   "metadata": {},
   "source": [
    "Here one can see the Hadamard Gate on the Bloch Sphere and the results on $\\ket{0}$ and $\\ket{1}$.\n",
    "<img src=\"images/Hadamardop.jpg\" width=\"50%\">"
   ]
  },
  {
   "cell_type": "markdown",
   "metadata": {},
   "source": [
    "<hr>"
   ]
  },
  {
   "cell_type": "markdown",
   "metadata": {},
   "source": [
    "## Question 10 | Basic of Quantum Systems | Quantum State Visualization of a (Real-Valued) Qubit <a name=\"q10\"></a>"
   ]
  },
  {
   "cell_type": "markdown",
   "metadata": {},
   "source": [
    "Is the angle of a quantum state enough to define it?"
   ]
  },
  {
   "cell_type": "markdown",
   "metadata": {},
   "source": [
    "### Answer"
   ]
  },
  {
   "cell_type": "markdown",
   "metadata": {},
   "source": [
    "No, it is not enough. If one only know the angle of a qubit, this information is not enough to tell anything about it's state."
   ]
  },
  {
   "cell_type": "markdown",
   "metadata": {},
   "source": [
    "<hr>"
   ]
  },
  {
   "cell_type": "markdown",
   "metadata": {},
   "source": [
    "## Question 11 | Quantum Correlation | Entanglement and Superdense Coding <a name=\"q11\"></a>"
   ]
  },
  {
   "cell_type": "markdown",
   "metadata": {},
   "source": [
    "What happens if both a and b is 1? We apply both gates?"
   ]
  },
  {
   "cell_type": "markdown",
   "metadata": {},
   "source": [
    "### Answer"
   ]
  },
  {
   "cell_type": "markdown",
   "metadata": {},
   "source": [
    "Yes, I have same question as well. I did not understand the example. How I am gonna know which qubit Asja has without observation?\n",
    "\n",
    "From the NB54:\n",
    "Now, we describe this protocol.\n",
    "\n",
    "Asja has two bits of classical information:  𝑎,𝑏∈{0,1}a,b∈{0,1} .\n",
    "\n",
    "There are four possible values for the pair  (𝑎,𝑏)(a,b) :  (0,0),(0,1),(1,0), or (1,1)(0,0),(0,1),(1,0), or (1,1) .\n",
    "\n",
    "If  𝑎a  is 1, then Asja applies z-gate, i.e.,  𝑍=(100−1)Z=(100−1) , to her qubit.\n",
    "\n",
    "If  𝑏b  is 1, then Asja applies x-gate (NOT operator) to her qubit.\n",
    "\n",
    "Then, Asja sends her qubit to Balvis.\n",
    "\n",
    "My question is if Asja sees what she has like 0 or 1, that's mean she does the measurement and she won't have qubit and any entanglement state any longer. BCS they are bits now. \n",
    "\n",
    "And yes what if her both results are 1?\n",
    "\n",
    "This explanation is confusing. \n",
    "\n",
    "I believe this is more clear. https://en.wikipedia.org/wiki/Superdense_coding\n"
   ]
  },
  {
   "cell_type": "markdown",
   "metadata": {},
   "source": [
    "<hr>"
   ]
  },
  {
   "cell_type": "markdown",
   "metadata": {},
   "source": [
    "## Question 12 | Quantum Correlation | Two Qubits <a name=\"q12\"></a>"
   ]
  },
  {
   "cell_type": "markdown",
   "metadata": {},
   "source": [
    "Can the CNOT operator be expressed as the tensor product of two one qubit operators?"
   ]
  },
  {
   "cell_type": "markdown",
   "metadata": {},
   "source": [
    "### Answer"
   ]
  },
  {
   "cell_type": "markdown",
   "metadata": {},
   "source": [
    "I think the question is:Can the CNOT operator be expressed as the tensor product of two qubit operators?\n",
    "If yes, so CNOT operator is already a tensor product of at least two operator. It can apply on more than two qubits too."
   ]
  },
  {
   "cell_type": "markdown",
   "metadata": {},
   "source": [
    "<hr>"
   ]
  },
  {
   "cell_type": "markdown",
   "metadata": {},
   "source": [
    "## Question 13 | Quantum Operators on a Real Valued Qubit | Reflections <a name=\"q13\"></a>"
   ]
  },
  {
   "cell_type": "markdown",
   "metadata": {},
   "source": [
    "How do we compute a reflection of a quantum state in a Bloch sphere?"
   ]
  },
  {
   "cell_type": "markdown",
   "metadata": {},
   "source": [
    "### Answer"
   ]
  },
  {
   "cell_type": "markdown",
   "metadata": {},
   "source": [
    "Here one can see initial state of a Qubit. Here only one state which is grond state $\\ket{0}$. [2]\n",
    "<img src=\"images/Zbasis.jpg\" width=\"50%\"> "
   ]
  },
  {
   "cell_type": "markdown",
   "metadata": {},
   "source": [
    "Here one can see after the Hadamard Gate on the Bloch Sphere. Now we have both states of one qubit.\n",
    "<img src=\"images/afterH.jpg\" width=\"50%\">"
   ]
  },
  {
   "cell_type": "markdown",
   "metadata": {},
   "source": [
    "Here one can see after the Hadamard and Z Gate on the Bloch Sphere. After Z gate might be seem no changes on the qubit but the degree has been changed from 0 to $ \\pi $.\n",
    "<img src=\"images/afterHZ.jpg\" width=\"50%\">"
   ]
  },
  {
   "cell_type": "markdown",
   "metadata": {},
   "source": [
    "<hr>"
   ]
  },
  {
   "cell_type": "markdown",
   "metadata": {},
   "source": [
    "## References\n",
    "[1] (https://en.wikipedia.org/wiki/Linear_system)\n",
    "\n",
    "[2] https://quantum-computing.ibm.com/"
   ]
  },
  {
   "cell_type": "code",
   "execution_count": null,
   "metadata": {},
   "outputs": [],
   "source": []
  }
 ],
 "metadata": {
  "kernelspec": {
   "display_name": "Python 3",
   "language": "python",
   "name": "python3"
  },
  "language_info": {
   "codemirror_mode": {
    "name": "ipython",
    "version": 3
   },
   "file_extension": ".py",
   "mimetype": "text/x-python",
   "name": "python",
   "nbconvert_exporter": "python",
   "pygments_lexer": "ipython3",
   "version": "3.6.9"
  }
 },
 "nbformat": 4,
 "nbformat_minor": 4
}
